{
 "cells": [
  {
   "cell_type": "code",
   "execution_count": 8,
   "metadata": {},
   "outputs": [],
   "source": [
    "import os\n",
    "import numpy as np\n",
    "import pandas as pd\n",
    "\n",
    "INPUT_DIR = \"./data\"\n",
    "\n",
    "df = pd.read_csv(os.path.join(INPUT_DIR, \"month_data.csv\"))\n",
    "df_pfyh = df[df[\"name\"] == \"浦发银行\"]\n",
    "df_zjls = df[df[\"name\"] == \"浙江龙盛\"]"
   ]
  },
  {
   "cell_type": "code",
   "execution_count": 13,
   "metadata": {},
   "outputs": [
    {
     "name": "stdout",
     "output_type": "stream",
     "text": [
      "{'pfyh_mean': -9.403405629218135e-07, 'zjls_mean': 0.013397098314527647, 'pfyh_var': 0.0029079590194123635, 'zjls_var': 0.012065995261749349, 'pfyh_std': 0.053925495078046004, 'zjls_std': 0.1098453242598398, 'covxy': 0.0010554144767035735, 'coefxy': 0.17817523109589942}\n"
     ]
    }
   ],
   "source": [
    "# Compute parameters\n",
    "def get_parameters(df_pfyh, df_zjls):\n",
    "    output = {}\n",
    "    output[\"pfyh_mean\"] = df_pfyh[\"rate_of_ret\"].mean()\n",
    "    output[\"zjls_mean\"] = df_zjls[\"rate_of_ret\"].mean()\n",
    "\n",
    "    output[\"pfyh_var\"] = df_pfyh[\"rate_of_ret\"].var()\n",
    "    output[\"zjls_var\"] = df_zjls[\"rate_of_ret\"].var()\n",
    "\n",
    "    output[\"pfyh_std\"] = df_pfyh[\"rate_of_ret\"].std()\n",
    "    output[\"zjls_std\"] = df_zjls[\"rate_of_ret\"].std()\n",
    "\n",
    "    output[\"covxy\"] = np.cov(df_pfyh[\"rate_of_ret\"], df_zjls[\"rate_of_ret\"])[0, 1]\n",
    "    output[\"coefxy\"] = np.corrcoef(df_pfyh[\"rate_of_ret\"], df_zjls[\"rate_of_ret\"])[0, 1]\n",
    "    \n",
    "    return output\n",
    "\n",
    "parameters = get_parameters(df_pfyh, df_zjls)\n",
    "print(parameters)\n"
   ]
  }
 ],
 "metadata": {
  "interpreter": {
   "hash": "f8fb8c426c34d87259f1a20eaccda73f7b179b2e5151312d6dc3356747369a04"
  },
  "kernelspec": {
   "display_name": "Python 3.9.7 64-bit ('race': conda)",
   "name": "python3"
  },
  "language_info": {
   "codemirror_mode": {
    "name": "ipython",
    "version": 3
   },
   "file_extension": ".py",
   "mimetype": "text/x-python",
   "name": "python",
   "nbconvert_exporter": "python",
   "pygments_lexer": "ipython3",
   "version": "3.9.7"
  },
  "orig_nbformat": 4
 },
 "nbformat": 4,
 "nbformat_minor": 2
}
