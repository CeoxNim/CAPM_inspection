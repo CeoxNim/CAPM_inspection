{
 "cells": [
  {
   "cell_type": "code",
   "execution_count": 4,
   "metadata": {},
   "outputs": [
    {
     "name": "stdout",
     "output_type": "stream",
     "text": [
      "   Unnamed: 0  name     date  rate_of_ret  rate_of_ret_accumulate\n",
      "0           0  浦发银行  2016-05     0.019175                0.019175\n",
      "1           1  浦发银行  2016-06    -0.035748               -0.017258\n",
      "2           2  浦发银行  2016-07     0.007805               -0.009588\n",
      "3           3  浦发银行  2016-08     0.050339                0.040268\n",
      "4           4  浦发银行  2016-09     0.000000                0.040268\n"
     ]
    }
   ],
   "source": [
    "import os\n",
    "import numpy as np\n",
    "import pandas as pd\n",
    "import statsmodels.api as sm\n",
    "\n",
    "INPUT_DIR = \"./data\"\n",
    "FILENAME = [\"浦发银行\", \"浙江龙盛\", \"上证综指\", \"国债指数\"]\n",
    "\n",
    "df = pd.read_csv(os.path.join(INPUT_DIR, \"month_data.csv\"))\n",
    "print(df.head())\n",
    "\n",
    "rate_of_ret = {}\n",
    "for filename in FILENAME:\n",
    "    rate_of_ret[filename] = np.array(df[df[\"name\"] == filename][\"rate_of_ret\"])\n",
    "\n",
    "excess_income = {}\n",
    "for filename in FILENAME:\n",
    "    excess_income[filename] = rate_of_ret[filename] - rate_of_ret[\"国债指数\"]"
   ]
  },
  {
   "cell_type": "code",
   "execution_count": 10,
   "metadata": {},
   "outputs": [
    {
     "name": "stdout",
     "output_type": "stream",
     "text": [
      "model: 浦发银行\n",
      "                            OLS Regression Results                            \n",
      "==============================================================================\n",
      "Dep. Variable:                      y   R-squared:                       0.291\n",
      "Model:                            OLS   Adj. R-squared:                  0.278\n",
      "Method:                 Least Squares   F-statistic:                     23.76\n",
      "Date:                Sat, 13 Nov 2021   Prob (F-statistic):           8.85e-06\n",
      "Time:                        12:44:43   Log-Likelihood:                 376.28\n",
      "No. Observations:                  60   AIC:                            -748.6\n",
      "Df Residuals:                      58   BIC:                            -744.4\n",
      "Df Model:                           1                                         \n",
      "Covariance Type:            nonrobust                                         \n",
      "==============================================================================\n",
      "                 coef    std err          t      P>|t|      [0.025      0.975]\n",
      "------------------------------------------------------------------------------\n",
      "const      -3.277e-05      6e-05     -0.546      0.587      -0.000    8.74e-05\n",
      "x1             0.7215      0.148      4.874      0.000       0.425       1.018\n",
      "==============================================================================\n",
      "Omnibus:                        1.253   Durbin-Watson:                   2.368\n",
      "Prob(Omnibus):                  0.534   Jarque-Bera (JB):                1.299\n",
      "Skew:                           0.300   Prob(JB):                        0.522\n",
      "Kurtosis:                       2.600   Cond. No.                     2.47e+03\n",
      "==============================================================================\n",
      "\n",
      "Notes:\n",
      "[1] Standard Errors assume that the covariance matrix of the errors is correctly specified.\n",
      "[2] The condition number is large, 2.47e+03. This might indicate that there are\n",
      "strong multicollinearity or other numerical problems.\n",
      "\n",
      "model: 浙江龙盛\n",
      "                            OLS Regression Results                            \n",
      "==============================================================================\n",
      "Dep. Variable:                      y   R-squared:                       0.252\n",
      "Model:                            OLS   Adj. R-squared:                  0.239\n",
      "Method:                 Least Squares   F-statistic:                     19.54\n",
      "Date:                Sat, 13 Nov 2021   Prob (F-statistic):           4.38e-05\n",
      "Time:                        12:44:43   Log-Likelihood:                 332.66\n",
      "No. Observations:                  60   AIC:                            -661.3\n",
      "Df Residuals:                      58   BIC:                            -657.1\n",
      "Df Model:                           1                                         \n",
      "Covariance Type:            nonrobust                                         \n",
      "==============================================================================\n",
      "                 coef    std err          t      P>|t|      [0.025      0.975]\n",
      "------------------------------------------------------------------------------\n",
      "const       9.751e-05      0.000      0.785      0.436      -0.000       0.000\n",
      "x1             1.3539      0.306      4.421      0.000       0.741       1.967\n",
      "==============================================================================\n",
      "Omnibus:                       60.621   Durbin-Watson:                   1.911\n",
      "Prob(Omnibus):                  0.000   Jarque-Bera (JB):              415.188\n",
      "Skew:                           2.760   Prob(JB):                     6.97e-91\n",
      "Kurtosis:                      14.645   Cond. No.                     2.47e+03\n",
      "==============================================================================\n",
      "\n",
      "Notes:\n",
      "[1] Standard Errors assume that the covariance matrix of the errors is correctly specified.\n",
      "[2] The condition number is large, 2.47e+03. This might indicate that there are\n",
      "strong multicollinearity or other numerical problems.\n"
     ]
    }
   ],
   "source": [
    "def get_OLS(filename):\n",
    "    x = excess_income[\"上证综指\"] / 100.\n",
    "    y = excess_income[filename] / 100. \n",
    "    X = sm.add_constant(x)\n",
    "    model = sm.OLS(y, X)\n",
    "    model = model.fit()\n",
    "    return model \n",
    "\n",
    "model1 = get_OLS(\"浦发银行\")\n",
    "model2 = get_OLS(\"浙江龙盛\")\n",
    "\n",
    "print(\"model: 浦发银行\")\n",
    "print(model1.summary())\n",
    "print(\"\\nmodel: 浙江龙盛\")\n",
    "print(model2.summary())"
   ]
  },
  {
   "cell_type": "code",
   "execution_count": 17,
   "metadata": {},
   "outputs": [
    {
     "name": "stdout",
     "output_type": "stream",
     "text": [
      "     股票       总风险     系统性风险      公司风险\n",
      "0  浦发银行  0.054287  0.039169  0.015119\n",
      "1  浙江龙盛  0.109385  0.148096  0.038711\n"
     ]
    }
   ],
   "source": [
    "X1 = sm.add_constant(excess_income[\"浦发银行\"])\n",
    "y_hat1 = model1.predict(X1)\n",
    "X2 = sm.add_constant(excess_income[\"浙江龙盛\"])\n",
    "y_hat2 = model2.predict(X2)\n",
    "\n",
    "y_error1 = excess_income[\"浦发银行\"] - y_hat1\n",
    "y_error2 = excess_income[\"浙江龙盛\"] - y_hat2\n",
    "\n",
    "total_risk = [excess_income[\"浦发银行\"].std(), excess_income[\"浙江龙盛\"].std()]\n",
    "system_risk = [y_hat1.std(), y_hat2.std()]\n",
    "company_risk = [y_error1.std(), y_error2.std()]\n",
    "\n",
    "df = pd.DataFrame()\n",
    "df[\"股票\"] = [\"浦发银行\", \"浙江龙盛\"]\n",
    "df[\"总风险\"] = total_risk\n",
    "df[\"系统性风险\"] = system_risk\n",
    "df[\"公司风险\"] = company_risk\n",
    "\n",
    "print(df.head())\n",
    "\n",
    "\n"
   ]
  },
  {
   "cell_type": "code",
   "execution_count": null,
   "metadata": {},
   "outputs": [],
   "source": []
  }
 ],
 "metadata": {
  "interpreter": {
   "hash": "f8fb8c426c34d87259f1a20eaccda73f7b179b2e5151312d6dc3356747369a04"
  },
  "kernelspec": {
   "display_name": "Python 3.9.7 64-bit ('race': conda)",
   "name": "python3"
  },
  "language_info": {
   "codemirror_mode": {
    "name": "ipython",
    "version": 3
   },
   "file_extension": ".py",
   "mimetype": "text/x-python",
   "name": "python",
   "nbconvert_exporter": "python",
   "pygments_lexer": "ipython3",
   "version": "3.9.7"
  },
  "orig_nbformat": 4
 },
 "nbformat": 4,
 "nbformat_minor": 2
}
