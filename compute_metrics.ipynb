{
 "cells": [
  {
   "cell_type": "code",
   "execution_count": 12,
   "metadata": {},
   "outputs": [],
   "source": [
    "import os\n",
    "import numpy as np\n",
    "import pandas as pd\n",
    "\n",
    "INPUT_DIR = \"./data\"\n",
    "\n",
    "def read_csv(filename):\n",
    "    df = pd.read_csv(os.path.join(INPUT_DIR, filename))\n",
    "    first_close = df[\"close\"][0]\n",
    "    net_values = df[\"close\"] / first_close\n",
    "    df[\"net_values\"] = net_values\n",
    "    return df\n",
    "\n",
    "df_pfyh = read_csv(\"pfyh.csv\")\n",
    "df_zjls = read_csv(\"zjls.csv\")\n"
   ]
  },
  {
   "cell_type": "code",
   "execution_count": 13,
   "metadata": {},
   "outputs": [
    {
     "name": "stdout",
     "output_type": "stream",
     "text": [
      "浦发银行年化收益率： -1.9 %\n",
      "浙江龙盛年化收益率： 9.52 %\n",
      "策略（简单平均）年化收益率： 3.81 %\n"
     ]
    }
   ],
   "source": [
    "# Compute rate-of-return\n",
    "def compute_annual_profit(days, net_value, days_per_year=245):\n",
    "    assert days > 0, \"Days must be positive!\"\n",
    "    years = days / days_per_year\n",
    "    annual_profit = pow(net_value, 1 / years) - 1\n",
    "    annual_profit = round(annual_profit * 100, 2)\n",
    "    return annual_profit\n",
    "\n",
    "annual_profit_pfyh = compute_annual_profit(len(df_pfyh), df_pfyh[\"net_values\"][df_pfyh.index[-1]])\n",
    "annual_profit_zjls = compute_annual_profit(len(df_zjls), df_zjls[\"net_values\"][df_zjls.index[-1]])\n",
    "\n",
    "print(\"浦发银行年化收益率：\", annual_profit_pfyh, \"%\")\n",
    "print(\"浙江龙盛年化收益率：\", annual_profit_zjls, \"%\")\n",
    "print(\"策略（简单平均）年化收益率：\", round((annual_profit_pfyh + annual_profit_zjls) / 2, 2), \"%\")"
   ]
  },
  {
   "cell_type": "code",
   "execution_count": 14,
   "metadata": {},
   "outputs": [
    {
     "name": "stdout",
     "output_type": "stream",
     "text": [
      "浦发银行最大回撤： 32.72 %\n",
      "浙江龙盛最大回撤： 53.2 %\n",
      "策略（简单平均）最大回撤： 42.24 %\n"
     ]
    }
   ],
   "source": [
    "# Compute max-draw-down\n",
    "def compute_drawdown(net_values):\n",
    "    max_drawdown = 0\n",
    "    index = 0\n",
    "    for net_value in net_values:\n",
    "        for sub_net_value in net_values[index: ]:\n",
    "            drawdown = 1 - sub_net_value / net_value\n",
    "            max_drawdown = max(max_drawdown, drawdown)\n",
    "        index += 1\n",
    "    return max_drawdown\n",
    "\n",
    "max_drawdown_pfyh = compute_drawdown(df_pfyh[\"net_values\"])\n",
    "max_drawdown_zjls = compute_drawdown(df_zjls[\"net_values\"])\n",
    "max_drawdown_pair = compute_drawdown((df_zjls[\"net_values\"] + df_pfyh[\"net_values\"]) / 2)\n",
    "\n",
    "print(\"浦发银行最大回撤：\", round(max_drawdown_pfyh * 100, 2), \"%\")\n",
    "print(\"浙江龙盛最大回撤：\", round(max_drawdown_zjls * 100, 2), \"%\")\n",
    "print(\"策略（简单平均）最大回撤：\", round(max_drawdown_pair * 100, 2), \"%\")\n"
   ]
  },
  {
   "cell_type": "code",
   "execution_count": 18,
   "metadata": {},
   "outputs": [
    {
     "name": "stdout",
     "output_type": "stream",
     "text": [
      "浦发银行夏普比率： -0.272\n",
      "浙江龙盛夏普比率： 0.168\n",
      "策略（简单平均）夏普比率： 0.036\n"
     ]
    }
   ],
   "source": [
    "# Compute sharpe ratio\n",
    "def compute_sharpe_ratio(net_values, days_per_year=245):\n",
    "    net_values = list(net_values)\n",
    "    trading_days = len(net_values)\n",
    "    profit_df = pd.DataFrame(columns={\"profit\"})\n",
    "    profit_df.loc[0] = {\"profit\": round((net_values[0] - 1) * 100, 2)}\n",
    "    for index in range(1, trading_days):\n",
    "        profit_rate = (net_values[index] - net_values[index - 1]) / net_values[index - 1]\n",
    "        profit_rate = round(profit_rate * 100, 2)\n",
    "        profit_df.loc[index] = {\"profit\": profit_rate}\n",
    "    \n",
    "    profit_std = pow(profit_df[\"profit\"].var(), 0.5)\n",
    "\n",
    "    annual_profit = compute_annual_profit(trading_days, net_values[-1])\n",
    "\n",
    "    df_gzzs = read_csv(\"gzzs.csv\")\n",
    "    norisk_profit = compute_annual_profit(trading_days, df_gzzs[\"net_values\"][df_gzzs.index[-1]])\n",
    "    \n",
    "    sharpe_ratio = (annual_profit - norisk_profit) / (profit_std * pow(days_per_year, 0.5))\n",
    "    return sharpe_ratio\n",
    "\n",
    "sharpe_ratio_pfyh = compute_sharpe_ratio(df_pfyh[\"net_values\"])\n",
    "sharpe_ratio_zjls = compute_sharpe_ratio(df_zjls[\"net_values\"])\n",
    "sharpe_ratio_pair = compute_sharpe_ratio((df_pfyh[\"net_values\"] + df_zjls[\"net_values\"]) / 2)\n",
    "\n",
    "print(\"浦发银行夏普比率：\", round(sharpe_ratio_pfyh, 3))\n",
    "print(\"浙江龙盛夏普比率：\", round(sharpe_ratio_zjls, 3))\n",
    "print(\"策略（简单平均）夏普比率：\", round(sharpe_ratio_pair, 3))"
   ]
  },
  {
   "cell_type": "code",
   "execution_count": null,
   "metadata": {},
   "outputs": [],
   "source": []
  }
 ],
 "metadata": {
  "interpreter": {
   "hash": "f8fb8c426c34d87259f1a20eaccda73f7b179b2e5151312d6dc3356747369a04"
  },
  "kernelspec": {
   "display_name": "Python 3.9.7 64-bit ('race': conda)",
   "name": "python3"
  },
  "language_info": {
   "codemirror_mode": {
    "name": "ipython",
    "version": 3
   },
   "file_extension": ".py",
   "mimetype": "text/x-python",
   "name": "python",
   "nbconvert_exporter": "python",
   "pygments_lexer": "ipython3",
   "version": "3.9.7"
  },
  "orig_nbformat": 4
 },
 "nbformat": 4,
 "nbformat_minor": 2
}
